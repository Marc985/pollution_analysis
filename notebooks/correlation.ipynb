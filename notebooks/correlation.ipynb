{
 "cells": [
  {
   "cell_type": "code",
   "execution_count": null,
   "metadata": {},
   "outputs": [],
   "source": [
    "import pandas as pd\n",
    "import seaborn as sns\n",
    "import matplotlib.pyplot as plt\n",
    "import statsmodels.api as sm\n",
    "\n",
    "pollution_df = pd.read_csv('../data/processed/transformed_pollution_data.csv')\n",
    "pollution_df.rename(columns={'location': 'Location'}, inplace=True)\n",
    "\n",
    "demographic_df = pd.read_csv('../data/raw/Demographic_Data.csv')\n",
    "geographic_df = pd.read_csv('../data/raw/Geographic_Data.csv')\n",
    "\n",
    "pollution_df['date'] = pd.to_datetime(pollution_df['date'])\n",
    "\n",
    "merged_df = pollution_df.merge(demographic_df, on='Location', how='left')\n",
    "merged_df = merged_df.merge(geographic_df, on='Location', how='left')\n",
    "\n",
    "non_numeric_columns = ['date', 'Location', 'pollution_level']\n",
    "\n",
    "numerical_columns = [col for col in merged_df.columns if col not in non_numeric_columns]\n",
    "\n",
    "correlation_matrix = merged_df[numerical_columns].corr()\n",
    "\n",
    "plt.figure(figsize=(15, 10))\n",
    "sns.heatmap(correlation_matrix, annot=True, cmap='coolwarm', fmt='.2f')\n",
    "plt.title('Matrice de Corrélation')\n",
    "plt.show()\n",
    "\n",
    "sns.pairplot(merged_df, vars=numerical_columns, hue='pollution_level')\n",
    "plt.show()\n",
    "\n",
    "X = merged_df[['Population', 'Density (people/km²)', 'Urbanization (%)', 'Average Income (USD)', 'Education Level (% with Bachelor\\'s or higher)', 'Altitude (m)', 'Proximity to Industry (km)']]\n",
    "y = merged_df['aqi']\n",
    "\n",
    "X = sm.add_constant(X)\n",
    "\n",
    "model = sm.OLS(y, X).fit()\n",
    "\n",
    "print(model.summary())\n",
    "\n",
    "sns.regplot(x=model.fittedvalues, y=y, line_kws={\"color\": \"red\"})\n",
    "plt.xlabel('Valeurs Prédites')\n",
    "plt.ylabel('Valeurs Réelles')\n",
    "plt.title('Régression Linéaire - Valeurs Prédites vs Réelles')\n",
    "plt.show()\n"
   ]
  }
 ],
 "metadata": {
  "language_info": {
   "name": "python"
  }
 },
 "nbformat": 4,
 "nbformat_minor": 2
}
